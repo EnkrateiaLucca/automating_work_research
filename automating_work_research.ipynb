{
 "cells": [
  {
   "attachments": {},
   "cell_type": "markdown",
   "metadata": {},
   "source": [
    "![](2023-02-23-23-20-57.png)"
   ]
  },
  {
   "attachments": {},
   "cell_type": "markdown",
   "metadata": {},
   "source": [
    "Keyword paragraph summarizer."
   ]
  },
  {
   "cell_type": "code",
   "execution_count": null,
   "metadata": {},
   "outputs": [],
   "source": [
    "import os\n",
    "import PyPDF2\n",
    "import re\n",
    "import openai\n",
    "\n",
    "# Define the folder containing the PDF files\n",
    "folder = './pdfs/'\n",
    "# Define the list of keywords to search for\n",
    "keywords = ['', '', '']\n",
    "# Loop through all the PDF files in the folder\n",
    "i=0\n",
    "for filename in os.listdir(folder):\n",
    "    if filename.endswith('.pdf'):\n",
    "        # Open the PDF file\n",
    "        pdf_file = open(os.path.join(folder, filename), 'rb')\n",
    "\n",
    "        # Read the PDF file using PyPDF2\n",
    "        pdf_reader = PyPDF2.PdfReader(pdf_file)\n",
    "\n",
    "        # Loop through all the pages in the PDF file\n",
    "        for page_num in range(len(pdf_reader.pages)):\n",
    "            # Extract the text from the page\n",
    "            page_text = pdf_reader.pages[page_num].extract_text().lower()\n",
    "\n",
    "            # Split the text into paragraphs\n",
    "            paragraphs = page_text.split('\\n\\n')\n",
    "\n",
    "            # Loop through all the paragraphs\n",
    "            for paragraph in paragraphs:\n",
    "                # Check if any of the keywords appear in the paragraph\n",
    "                for keyword in keywords:\n",
    "                    if re.search(keyword, paragraph, re.IGNORECASE):\n",
    "                        # If a keyword is found, print the matching paragraph\n",
    "                        print(f'Found \"{keyword}\" in {filename}, page {page_num+1}, paragraph:')\n",
    "                        with open(f\"{keyword}_{i}.txt\", \"w+\") as file:\n",
    "                            file.write(paragraph)\n",
    "                        i+=1"
   ]
  },
  {
   "cell_type": "code",
   "execution_count": 13,
   "metadata": {},
   "outputs": [
    {
     "name": "stdout",
     "output_type": "stream",
     "text": [
      "./paper_extracts/anti-predator_2.txt\n",
      "\n",
      "This study looked at how the coloration of a species of tiger beetle, Chaetodera laetescripta, is affected by its environment and predators. Researchers used optical analysis techniques and knowledge of color perception to model how predators see the beetle's coloration. They then tested the beetle's camouflage against predators in the wild and studied the genetic structures of the beetle's populations to understand the evolutionary process of its coloration. The results showed that the beetle's coloration is affected by its environment, predators, and phylogenetic constraints.\n",
      "*************************\n",
      "./paper_extracts/mark_laidre_stuff.txt\n",
      "transcription too long\n",
      "\n",
      "This study looked at how the coloration of a species of tiger beetle, Chaetodera laetescripta, is affected by its environment and predators. Researchers used optical analysis techniques and knowledge of color perception to model how predators see the beetle's coloration. They then tested the beetle's camouflage against predators in the wild and studied the genetic structures of the beetle's populations to understand the evolutionary process of its coloration. The results showed that the beetle's coloration is affected by its environment, predators, and phylogenetic constraints.\n",
      "*************************\n",
      "./paper_extracts/predation_4.txt\n",
      "\n",
      "This study found that the coloration of tiger beetles is finely tuned to the background coloration of their environment in order to avoid predation. The field experiment showed that models with better-matched coloration were attacked less frequently, suggesting that better-matched coloration is effective for reducing predation risk. The study also found that the degree of matching in color pattern spatial characteristics and the dark/light color ratio can also affect survival.\n",
      "*************************\n",
      "./paper_extracts/predation_5.txt\n",
      "\n",
      "This study found that natural selection from visual predators has driven the evolution of finely tuned background-matching camouflage in the tiger beetle C. laetescripta, following the colonization of different habitats. The findings suggest that local adaptation has played a major role in the evolution of background-matching coloration across a wide geographical range of the species. The study used integrated image analysis, field experiments, and phylogenetic analysis to demonstrate this.\n",
      "*************************\n",
      "./paper_extracts/predation_6.txt\n",
      "\n",
      "This article discusses the ecological significance of pigmentation in vertebrates, insects, and other animals. It looks at how pigmentation can be used for thermoregulation, warning signals, camouflage, and other functions. It also examines how pigmentation can be used to adapt to different environments and how it can be used to study the evolutionary history of species.\n",
      "*************************\n",
      "./paper_extracts/anti-predator_1.txt\n",
      "\n",
      "This article examines how the coloration of a species of tiger beetle called Chaetodera laetescripta is adapted to match the color of its sandy habitat in different geographical locations. Through digital image analysis, experiments with model beetles, and DNA sequencing, the authors found that the beetle's coloration is fine-tuned to match the local background, which reduces the likelihood of being attacked by predators. This suggests that the beetle's coloration has evolved through natural selection.\n",
      "*************************\n",
      "./paper_extracts/predation_3.txt\n",
      "investigated using phylogenetic comparative analysis [65] withthe ‘pgls ’function in the caper r package [66]. the mean pro-portion of the white area in tiger beetles was used as the depen-dent variable; the mean annual temperature and the meanannual precipitation were used as the independent variables.\n",
      "\n",
      "This study evaluated the discrimination between elytral and sand luminances of the widely used Vorobyev-Oshiro receptor noise discrimination model. The JND value was calculated from the log difference in double cone catches of two samples divided by the Weber fraction. A JND value less than 1.00 indicates that two objects cannot be distinguished even under optimal viewing conditions, while a JND value less than 3.00 indicates that two objects cannot be distinguished under inadequate lighting conditions. Field predation experiments were conducted using paper tiger beetle models to test for the selective advantage of background matching in luminance. Additionally, a phylogenetic analysis with RAD sequencing was conducted to investigate the relationships between body colour, genetic distance, and geographical distance.\n",
      "*************************\n",
      "./paper_extracts/predation_0.txt\n",
      "\n",
      "This article examines how the coloration of a species of tiger beetle called Chaetodera laetescripta is adapted to match the color of its sandy habitat in different geographical locations. Through digital image analysis, experiments with model beetles, and DNA sequencing, the authors found that the beetle's coloration is fine-tuned to match the local background, which reduces the likelihood of being attacked by predators. This suggests that the beetle's coloration has evolved through natural selection.\n",
      "*************************\n"
     ]
    }
   ],
   "source": [
    "# Variables\n",
    "openai.api_key = os.environ[\"OPENAI_API_KEY\"]\n",
    "# Set the GPT-3 model\n",
    "model_engine = \"text-davinci-003\"\n",
    "\n",
    "def summarize_file(transcription):\n",
    "    # Summarize the transcription using GPT-3\n",
    "    response = openai.Completion.create(\n",
    "    model=model_engine,\n",
    "    prompt=\"summarize this for a non technical person: \" + transcription,\n",
    "    temperature=0,\n",
    "    max_tokens=256,\n",
    "    top_p=1.0,\n",
    "    frequency_penalty=0.0,\n",
    "    presence_penalty=0.0\n",
    "    )\n",
    "    \n",
    "    return response[\"choices\"][0][\"text\"]\n",
    "\n",
    "folder = \"./paper_extracts/\"\n",
    "for filename in os.listdir(folder):\n",
    "    if filename.endswith('.txt'):\n",
    "        # Open the extract .txt file\n",
    "        paper_file = os.path.join(folder, filename)\n",
    "        print(paper_file)\n",
    "        with open(f\"{paper_file}\", \"r\") as f:\n",
    "            transcription = f.read()\n",
    "        # Print the summary\n",
    "        try:\n",
    "            summary = summarize_file(transcription)\n",
    "        except:\n",
    "            print(\"transcription too long\")\n",
    "        print(summary)\n",
    "        print('*************************')"
   ]
  }
 ],
 "metadata": {
  "kernelspec": {
   "display_name": "explore",
   "language": "python",
   "name": "python3"
  },
  "language_info": {
   "codemirror_mode": {
    "name": "ipython",
    "version": 3
   },
   "file_extension": ".py",
   "mimetype": "text/x-python",
   "name": "python",
   "nbconvert_exporter": "python",
   "pygments_lexer": "ipython3",
   "version": "3.10.9"
  },
  "orig_nbformat": 4,
  "vscode": {
   "interpreter": {
    "hash": "180f999d9848f1224ab7a40d614ddb7a64ce5dc191baad50ff5b5a373ba31d53"
   }
  }
 },
 "nbformat": 4,
 "nbformat_minor": 2
}
